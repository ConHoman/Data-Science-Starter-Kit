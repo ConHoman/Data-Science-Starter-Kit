{
 "cells": [
  {
   "cell_type": "markdown",
   "metadata": {},
   "source": [
    "# 📓 Data Science Homework\n",
    "Fill in the code blocks and markdown cells as instructed below."
   ]
  },
  {
   "cell_type": "markdown",
   "metadata": {},
   "source": [
    "## Descriptive Statistics"
   ]
  },
  {
   "cell_type": "code",
   "execution_count": null,
   "metadata": {},
   "outputs": [
    {
     "name": "stdout",
     "output_type": "stream",
     "text": [
      "Mean: 1.2070424024532094\n",
      "Median: 1.0\n",
      "Mode: [1]\n",
      "Standard Deviation: 0.8005795130298843\n",
      "IQR: 0.0\n"
     ]
    }
   ],
   "source": [
    "# TODO: Load the dataset and compute mean, median, mode, std, IQR\n",
    "import pandas as pd\n",
    "import numpy as np\n",
    "\n",
    "# Load dataset\n",
    "df = pd.read_csv('../data/ACCIDENTS_GU_BCN_2013.csv')\n",
    "\n",
    "# Print column names to see exact labels (optional if you've already checked)\n",
    "# print(df.columns)\n",
    "\n",
    "# Use the correct column name as it appears in your file\n",
    "victims = df['N�mero de v�ctimes']  # Update this if your column is different!\n",
    "\n",
    "# Compute descriptive statistics\n",
    "print(\"Mean:\", victims.mean())\n",
    "print(\"Median:\", victims.median())\n",
    "print(\"Mode:\", victims.mode().values)\n",
    "print(\"Standard Deviation:\", victims.std())\n",
    "\n",
    "iqr = victims.quantile(0.75) - victims.quantile(0.25)\n",
    "print(\"IQR:\", iqr)\n",
    "\n",
    "# In this section we calculated different statistics for a number of victims.\n",
    "# These statistics include the mean, median, mode, standard deviation, and interquartile range"
   ]
  },
  {
   "cell_type": "markdown",
   "metadata": {},
   "source": [
    "## Visualizations (Histogram, KDE, Boxplot, Heatmap)"
   ]
  },
  {
   "cell_type": "code",
   "execution_count": null,
   "metadata": {},
   "outputs": [],
   "source": [
    "# TODO: Plot histogram, KDE, boxplot, and correlation heatmap\n",
    "import matplotlib.pyplot as plt\n",
    "import seaborn as sns\n",
    "\n",
    "# Histogram\n",
    "sns.histplot(victims, bins=15, kde=False)\n",
    "plt.title(\"Histogram of Victims\")\n",
    "plt.xlabel(\"Number of Victims\")\n",
    "plt.ylabel(\"Frequency\")\n",
    "plt.show()\n",
    "\n",
    "# KDE Plot\n",
    "sns.kdeplot(victims.dropna(), fill=True)\n",
    "plt.title(\"KDE Plot of Victims\")\n",
    "plt.xlabel(\"Number of Victims\")\n",
    "plt.show()\n",
    "\n",
    "# Boxplot\n",
    "sns.boxplot(x=victims)\n",
    "plt.title(\"Boxplot of Victims\")\n",
    "plt.xlabel(\"Number of Victims\")\n",
    "plt.show()\n",
    "\n",
    "# Correlation heatmap\n",
    "plt.figure(figsize=(10, 6))\n",
    "sns.heatmap(df.corr(numeric_only=True), annot=True, cmap='coolwarm')\n",
    "plt.title(\"Correlation Heatmap\")\n",
    "plt.show()\n",
    "\n",
    "# These different visualizations help us understand the data distributions in different ways\n",
    "# These include a histogram, KDE Plot, Boxplot, and a correlation heatmap."
   ]
  },
  {
   "cell_type": "markdown",
   "metadata": {},
   "source": [
    "## Bootstrap Confidence Interval"
   ]
  },
  {
   "cell_type": "code",
   "execution_count": null,
   "metadata": {},
   "outputs": [],
   "source": [
    "# TODO: Bootstrap sample mean and CI (e.g., for 'Número de víctimes')\n",
    "import numpy as np\n",
    "\n",
    "# Make sure we're using the same victims column\n",
    "# If you're running this in a fresh session, make sure df is already loaded\n",
    "\n",
    "# Drop missing values (important for clean bootstrap sampling)\n",
    "victims_clean = victims.dropna()\n",
    "\n",
    "# Create 1000 bootstrap samples and calculate the mean of each\n",
    "boot_means = [victims_clean.sample(frac=1, replace=True).mean() for _ in range(1000)]\n",
    "\n",
    "# Calculate the 95% confidence interval from the bootstrapped means\n",
    "ci_lower = np.percentile(boot_means, 2.5)\n",
    "ci_upper = np.percentile(boot_means, 97.5)\n",
    "\n",
    "print(f'95% Confidence Interval for mean number of victims: ({ci_lower:.2f}, {ci_upper:.2f})')\n",
    "\n",
    "#Using bootstrap sampling, 1000 random samples of data are made and then the confidence interval is calculated\n"
   ]
  },
  {
   "cell_type": "markdown",
   "metadata": {},
   "source": [
    "## Hypothesis Testing"
   ]
  },
  {
   "cell_type": "code",
   "execution_count": null,
   "metadata": {},
   "outputs": [
    {
     "name": "stdout",
     "output_type": "stream",
     "text": [
      "95% Confidence Interval for mean number of victims: (1.19, 1.22)\n",
      "t-statistic: 25.15\n",
      "p-value: 0.0000\n",
      "Reject the null hypothesis: the mean is significantly different from 1.\n"
     ]
    }
   ],
   "source": [
    "# TODO: Perform a t-test (e.g., is mean != 1?) and interpret the result\n",
    "import pandas as pd\n",
    "import numpy as np\n",
    "from scipy.stats import ttest_1samp\n",
    "\n",
    "# Load the dataset\n",
    "df = pd.read_csv('../data/ACCIDENTS_GU_BCN_2013.csv')\n",
    "\n",
    "# Clean the column for victims\n",
    "victims = df['N�mero de v�ctimes']  # Make sure this is the correct column name\n",
    "\n",
    "# Clean the data by removing any missing values\n",
    "victims_clean = victims.dropna()\n",
    "\n",
    "# Bootstrap Sampling\n",
    "boot_means = [victims_clean.sample(frac=1, replace=True).mean() for _ in range(1000)]\n",
    "\n",
    "# Calculate the 95% confidence interval from the bootstrapped means\n",
    "ci_lower = np.percentile(boot_means, 2.5)\n",
    "ci_upper = np.percentile(boot_means, 97.5)\n",
    "\n",
    "print(f'95% Confidence Interval for mean number of victims: ({ci_lower:.2f}, {ci_upper:.2f})')\n",
    "\n",
    "# Hypothesis Testing: One-sample t-test\n",
    "t_stat, p_val = ttest_1samp(victims_clean, popmean=1)\n",
    "\n",
    "print(f\"t-statistic: {t_stat:.2f}\")\n",
    "print(f\"p-value: {p_val:.4f}\")\n",
    "\n",
    "if p_val < 0.05:\n",
    "    print(\"Reject the null hypothesis: the mean is significantly different from 1.\")\n",
    "else:\n",
    "    print(\"Fail to reject the null hypothesis: the mean is not significantly different from 1.\")\n",
    "\n",
    "# This performs a one sample t-test to test whether the mean number of victims is significantly different from 1."
   ]
  },
  {
   "cell_type": "code",
   "execution_count": null,
   "metadata": {},
   "outputs": [],
   "source": []
  }
 ],
 "metadata": {
  "kernelspec": {
   "display_name": "Python [conda env:base] *",
   "language": "python",
   "name": "conda-base-py"
  },
  "language_info": {
   "codemirror_mode": {
    "name": "ipython",
    "version": 3
   },
   "file_extension": ".py",
   "mimetype": "text/x-python",
   "name": "python",
   "nbconvert_exporter": "python",
   "pygments_lexer": "ipython3",
   "version": "3.12.7"
  }
 },
 "nbformat": 4,
 "nbformat_minor": 4
}
